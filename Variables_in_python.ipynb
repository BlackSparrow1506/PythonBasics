{
  "nbformat": 4,
  "nbformat_minor": 0,
  "metadata": {
    "colab": {
      "provenance": [],
      "authorship_tag": "ABX9TyM/mLSvkceq4yvKouO1INUz",
      "include_colab_link": true
    },
    "kernelspec": {
      "name": "python3",
      "display_name": "Python 3"
    },
    "language_info": {
      "name": "python"
    }
  },
  "cells": [
    {
      "cell_type": "markdown",
      "metadata": {
        "id": "view-in-github",
        "colab_type": "text"
      },
      "source": [
        "<a href=\"https://colab.research.google.com/github/BlackSparrow1506/PythonBasics/blob/main/Variables_in_python.ipynb\" target=\"_parent\"><img src=\"https://colab.research.google.com/assets/colab-badge.svg\" alt=\"Open In Colab\"/></a>"
      ]
    },
    {
      "cell_type": "code",
      "source": [
        "rent = 2400\n",
        "gas = 546.89\n",
        "groceries = 3450.90\n",
        "print(rent)"
      ],
      "metadata": {
        "colab": {
          "base_uri": "https://localhost:8080/"
        },
        "id": "AZmWrUuHT76T",
        "outputId": "4c929398-5a63-436c-eb0e-29f7fb21f0c2"
      },
      "execution_count": 2,
      "outputs": [
        {
          "output_type": "stream",
          "name": "stdout",
          "text": [
            "2400\n"
          ]
        }
      ]
    },
    {
      "cell_type": "code",
      "source": [
        "Total=rent+gas+groceries\n",
        "print(Total)"
      ],
      "metadata": {
        "colab": {
          "base_uri": "https://localhost:8080/"
        },
        "id": "fMH77dfTXYO8",
        "outputId": "996ff459-fb4f-4a34-8cd8-36afa8433ee6"
      },
      "execution_count": 3,
      "outputs": [
        {
          "output_type": "stream",
          "name": "stdout",
          "text": [
            "6397.79\n"
          ]
        }
      ]
    },
    {
      "cell_type": "code",
      "source": [
        "rent=1400\n",
        "item1=\"rent\"\n",
        "item2=\"gas\"\n",
        "item3=\"groceries\"\n",
        "print(\"EXPENSE ITEMS:\",item1,item2,item3)\n"
      ],
      "metadata": {
        "colab": {
          "base_uri": "https://localhost:8080/"
        },
        "id": "CCU2DpH-XmFE",
        "outputId": "abc992fd-9566-4c6e-ff1a-7dea13ff9c3d"
      },
      "execution_count": 6,
      "outputs": [
        {
          "output_type": "stream",
          "name": "stdout",
          "text": [
            "EXPENSE ITEMS: rent gas groceries\n"
          ]
        }
      ]
    },
    {
      "cell_type": "code",
      "source": [
        "true=4"
      ],
      "metadata": {
        "id": "sK4TrfdeY5-0"
      },
      "execution_count": 7,
      "outputs": []
    }
  ]
}